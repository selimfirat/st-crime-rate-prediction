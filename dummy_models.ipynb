{
 "cells": [
  {
   "cell_type": "code",
   "execution_count": 3,
   "metadata": {},
   "outputs": [
    {
     "name": "stderr",
     "output_type": "stream",
     "text": [
      "100%|██████████| 276872/276872 [00:04<00:00, 66193.05it/s]\n"
     ]
    },
    {
     "name": "stdout",
     "output_type": "stream",
     "text": [
      "Mean per class  R2 0.0\n",
      "All zeros R2 -0.13756839989281855\n",
      "All ones R2 -49.533502650345206\n",
      "All mean R2 -3.8374637678792793\n"
     ]
    }
   ],
   "source": [
    "from evaluator import score_r2\n",
    "from pipeline import Pipeline\n",
    "import numpy as np\n",
    "\n",
    "pl = Pipeline()\n",
    "y = pl.get_y()\n",
    "\n",
    "yx = y.reshape((-1,y.shape[2])).mean(axis=0).reshape((1, -1))\n",
    "yx = np.repeat(yx, y.shape[1], axis=0)\n",
    "yx = yx.reshape(1, yx.shape[0], -1)\n",
    "yx = np.repeat(yx, y.shape[0], axis=0)\n",
    "\n",
    "# Mean per class, zeros only, ones only, all mean\n",
    "print(\"Mean per class \", \"R2\", score_r2(y, yx))\n",
    "print(\"All zeros\", \"R2\", score_r2(y, np.zeros(y.shape)))\n",
    "print(\"All ones\", \"R2\", score_r2(y, np.ones(y.shape)))\n",
    "print(\"All mean\", \"R2\", score_r2(y, y.mean()*np.ones(y.shape)))"
   ]
  }
 ],
 "metadata": {
  "kernelspec": {
   "display_name": "Python 3",
   "language": "python",
   "name": "python3"
  },
  "language_info": {
   "codemirror_mode": {
    "name": "ipython",
    "version": 3
   },
   "file_extension": ".py",
   "mimetype": "text/x-python",
   "name": "python",
   "nbconvert_exporter": "python",
   "pygments_lexer": "ipython3",
   "version": "3.6.8"
  }
 },
 "nbformat": 4,
 "nbformat_minor": 2
}

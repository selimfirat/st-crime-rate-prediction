{
 "cells": [
  {
   "cell_type": "markdown",
   "metadata": {},
   "source": [
    "# LSTM Multivariate Regressor\n",
    "Train LSTM with AR(1) for regions as separate data point"
   ]
  },
  {
   "cell_type": "code",
   "execution_count": 1,
   "metadata": {
    "collapsed": false
   },
   "outputs": [
    {
     "name": "stdout",
     "output_type": "stream",
     "text": [
      "Unique locations (205593, 2)\n",
      "Min latitude 41.644589713\n",
      "Max latitude 42.022575055\n",
      "Min longitude -87.928909442\n",
      "Max longitude -87.524614716\n",
      "Min ts 1420070400\n",
      "Max ts 1483228740\n",
      "Number of days 730\n"
     ]
    }
   ],
   "source": [
    "from pipeline import Pipeline\n",
    "\n",
    "ppl = Pipeline()\n",
    "ppl.init_pipeline()"
   ]
  },
  {
   "cell_type": "code",
   "execution_count": 2,
   "metadata": {
    "collapsed": false
   },
   "outputs": [
    {
     "name": "stderr",
     "output_type": "stream",
     "text": [
      "100%|██████████| 276872/276872 [00:03<00:00, 74188.84it/s]\n"
     ]
    },
    {
     "data": {
      "text/plain": [
       "('Num regions', 98)"
      ]
     },
     "execution_count": 2,
     "metadata": {},
     "output_type": "execute_result"
    }
   ],
   "source": [
    "splits = ppl.get_splits_ar(prev_inputs=1, n_splits=3)\n",
    "\"Num regions\", splits[0][0].shape[0]"
   ]
  },
  {
   "cell_type": "code",
   "execution_count": 3,
   "metadata": {},
   "outputs": [
    {
     "name": "stdout",
     "output_type": "stream",
     "text": [
      "torch.Size([98, 165, 25])\n"
     ]
    }
   ],
   "source": [
    "print(splits[0][0].shape)"
   ]
  },
  {
   "cell_type": "code",
   "execution_count": 4,
   "metadata": {},
   "outputs": [
    {
     "name": "stdout",
     "output_type": "stream",
     "text": [
      "Split #0\n",
      "tt shape torch.Size([98, 165, 25])\n",
      "tt shape torch.Size([98, 165, 25])\n",
      "Test score for split 1 is -0.487554352956909\n",
      "Split #1\n",
      "tt shape torch.Size([98, 329, 25])\n",
      "tt shape torch.Size([98, 329, 25])\n",
      "Test score for split 2 is -1.1869027486618617\n",
      "Split #2\n",
      "tt shape torch.Size([98, 493, 25])\n",
      "tt shape torch.Size([98, 493, 25])\n",
      "Test score for split 3 is -0.24741654329749355\n",
      "Mean of cross validation splits' val score is -1.2316990742751577\n",
      "Mean of cross validation splits' test score is -0.6406245483054215\n"
     ]
    }
   ],
   "source": [
    "from lstm_mvr import LSTMMultivariateRegressor\n",
    "\n",
    "dim = splits[0][0][0].shape[-1] # 25 for chicago\n",
    "\n",
    "model_params = {\n",
    "    \"input_dim\": dim,\n",
    "    \"output_dim\": dim\n",
    "}\n",
    "\n",
    "model_cls = LSTMMultivariateRegressor\n",
    "\n",
    "name = \"lstm_mvr\"\n",
    "\n",
    "ppl.model_regions_as_dp(name, splits, model_cls, model_params, num_epochs=2000, lr=0.1, early_stop_epochs=50)"
   ]
  },
  {
   "cell_type": "code",
   "execution_count": 5,
   "metadata": {
    "collapsed": false
   },
   "outputs": [],
   "source": [
    "ppl.close()"
   ]
  }
 ],
 "metadata": {
  "kernelspec": {
   "display_name": "Python 3",
   "language": "python",
   "name": "python3"
  },
  "language_info": {
   "codemirror_mode": {
    "name": "ipython",
    "version": 3
   },
   "file_extension": ".py",
   "mimetype": "text/x-python",
   "name": "python",
   "nbconvert_exporter": "python",
   "pygments_lexer": "ipython3",
   "version": "3.6.8"
  }
 },
 "nbformat": 4,
 "nbformat_minor": 2
}

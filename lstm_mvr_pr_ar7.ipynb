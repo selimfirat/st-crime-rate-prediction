{
 "cells": [
  {
   "cell_type": "markdown",
   "metadata": {},
   "source": [
    "# LSTM Multivariate Regressor Per Region\n",
    "Train LSTM with AR(1) for each region separately"
   ]
  },
  {
   "cell_type": "code",
   "execution_count": 1,
   "metadata": {
    "collapsed": false
   },
   "outputs": [
    {
     "name": "stdout",
     "output_type": "stream",
     "text": [
      "Unique locations (205593, 2)\n",
      "Min latitude 41.644589713\n",
      "Max latitude 42.022575055\n",
      "Min longitude -87.928909442\n",
      "Max longitude -87.524614716\n",
      "Min ts 1420070400\n",
      "Max ts 1483228740\n",
      "Number of days 730\n"
     ]
    }
   ],
   "source": [
    "from pipeline import Pipeline\n",
    "\n",
    "ppl = Pipeline()\n",
    "ppl.init_pipeline()"
   ]
  },
  {
   "cell_type": "code",
   "execution_count": 2,
   "metadata": {
    "collapsed": false
   },
   "outputs": [
    {
     "name": "stderr",
     "output_type": "stream",
     "text": [
      "100%|█████████████████████████████████████████████████████████████████████████████████████████████████████| 276872/276872 [00:04<00:00, 62918.48it/s]\n",
      "100%|███████████████████████████████████████████████████████████████████████████████████████████████████████████████| 98/98 [00:00<00:00, 249.08it/s]\n"
     ]
    },
    {
     "data": {
      "text/plain": [
       "('Num regions', 98)"
      ]
     },
     "execution_count": 2,
     "metadata": {},
     "output_type": "execute_result"
    }
   ],
   "source": [
    "# TODO: create AR 7 model\n",
    "\n",
    "prev_inputs = 7\n",
    "\n",
    "splits = ppl.get_splits_ar_pr(prev_inputs=prev_inputs, n_splits=3)\n",
    "\"Num regions\", len(splits)"
   ]
  },
  {
   "cell_type": "code",
   "execution_count": 3,
   "metadata": {
    "collapsed": false
   },
   "outputs": [
    {
     "data": {
      "text/plain": [
       "torch.Size([164, 1, 175])"
      ]
     },
     "execution_count": 3,
     "metadata": {},
     "output_type": "execute_result"
    }
   ],
   "source": [
    "splits[0][0][0].shape"
   ]
  },
  {
   "cell_type": "code",
   "execution_count": 4,
   "metadata": {
    "collapsed": false
   },
   "outputs": [
    {
     "name": "stderr",
     "output_type": "stream",
     "text": [
      "  0%|                                                                                                                         | 0/98 [00:00<?, ?it/s]"
     ]
    },
    {
     "name": "stdout",
     "output_type": "stream",
     "text": [
      "175\n",
      "Split #0\n"
     ]
    },
    {
     "name": "stderr",
     "output_type": "stream",
     "text": [
      "100%|████████████████████████████████████████████████████████████████████████████████████████████████████████████████| 98/98 [16:47<00:00,  9.38s/it]\n",
      "  0%|                                                                                                                         | 0/98 [00:00<?, ?it/s]"
     ]
    },
    {
     "name": "stdout",
     "output_type": "stream",
     "text": [
      "Test score for split 1 is 0.1797060967556432\n",
      "Split #1\n"
     ]
    },
    {
     "name": "stderr",
     "output_type": "stream",
     "text": [
      "100%|████████████████████████████████████████████████████████████████████████████████████████████████████████████████| 98/98 [31:03<00:00, 18.03s/it]\n",
      "  0%|                                                                                                                         | 0/98 [00:00<?, ?it/s]"
     ]
    },
    {
     "name": "stdout",
     "output_type": "stream",
     "text": [
      "Test score for split 2 is 0.1569648079446428\n",
      "Split #2\n"
     ]
    },
    {
     "name": "stderr",
     "output_type": "stream",
     "text": [
      "100%|████████████████████████████████████████████████████████████████████████████████████████████████████████████████| 98/98 [54:43<00:00, 33.53s/it]"
     ]
    },
    {
     "name": "stdout",
     "output_type": "stream",
     "text": [
      "Test score for split 3 is 0.14310421880849014\n",
      "Mean of cross validation splits' val score is 0.1340603851504538\n",
      "Mean of cross validation splits' test score is 0.15992504116959205\n"
     ]
    },
    {
     "name": "stderr",
     "output_type": "stream",
     "text": [
      "\n"
     ]
    }
   ],
   "source": [
    "from lstm_mvr_pr import LSTMMultivariateRegressorPerRegion\n",
    "\n",
    "dim = splits[0][0][0].shape[-1]\n",
    "print(dim)\n",
    "\n",
    "\n",
    "model_params = {\n",
    "    \"input_dim\": dim,\n",
    "    \"output_dim\": splits[0][0][1].shape[-1]\n",
    "}\n",
    "\n",
    "model_cls = LSTMMultivariateRegressorPerRegion\n",
    "\n",
    "name = \"lstm_mvr_pr_ar7\"\n",
    "\n",
    "ppl.model_per_region(name, splits, model_cls, model_params, num_epochs=2000, lr=0.1, early_stop_epochs=50)"
   ]
  },
  {
   "cell_type": "code",
   "execution_count": 1,
   "metadata": {
    "collapsed": false
   },
   "outputs": [
    {
     "ename": "NameError",
     "evalue": "name 'ppl' is not defined",
     "output_type": "error",
     "traceback": [
      "\u001b[0;31m---------------------------------------------------------------------------\u001b[0m",
      "\u001b[0;31mNameError\u001b[0m                                 Traceback (most recent call last)",
      "\u001b[0;32m<ipython-input-1-71a69b20d167>\u001b[0m in \u001b[0;36m<module>\u001b[0;34m\u001b[0m\n\u001b[0;32m----> 1\u001b[0;31m \u001b[0mppl\u001b[0m\u001b[0;34m.\u001b[0m\u001b[0mclose\u001b[0m\u001b[0;34m(\u001b[0m\u001b[0;34m)\u001b[0m\u001b[0;34m\u001b[0m\u001b[0;34m\u001b[0m\u001b[0m\n\u001b[0m",
      "\u001b[0;31mNameError\u001b[0m: name 'ppl' is not defined"
     ]
    }
   ],
   "source": [
    "ppl.close()"
   ]
  },
  {
   "cell_type": "code",
   "execution_count": null,
   "metadata": {},
   "outputs": [],
   "source": []
  }
 ],
 "metadata": {
  "kernelspec": {
   "display_name": "Python 3",
   "language": "python",
   "name": "python3"
  },
  "language_info": {
   "codemirror_mode": {
    "name": "ipython",
    "version": 3
   },
   "file_extension": ".py",
   "mimetype": "text/x-python",
   "name": "python",
   "nbconvert_exporter": "python",
   "pygments_lexer": "ipython3",
   "version": "3.6.8"
  }
 },
 "nbformat": 4,
 "nbformat_minor": 2
}

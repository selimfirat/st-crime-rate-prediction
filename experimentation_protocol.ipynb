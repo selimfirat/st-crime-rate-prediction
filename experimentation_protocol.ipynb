{
 "cells": [
  {
   "cell_type": "markdown",
   "metadata": {},
   "source": [
    "# Experimentation Protocol\n",
    "To be shown in presentation"
   ]
  },
  {
   "cell_type": "code",
   "execution_count": 1,
   "metadata": {
    "collapsed": false
   },
   "outputs": [
    {
     "name": "stdout",
     "output_type": "stream",
     "text": [
      "Unique locations (205593, 2)\n",
      "Min latitude 41.644589713\n",
      "Max latitude 42.022575055\n",
      "Min longitude -87.928909442\n",
      "Max longitude -87.524614716\n",
      "Min ts 1420070400\n",
      "Max ts 1483228740\n",
      "Number of days 730\n"
     ]
    }
   ],
   "source": [
    "from pipeline import Pipeline\n",
    "\n",
    "ppl = Pipeline()\n",
    "ppl.init_pipeline()"
   ]
  },
  {
   "cell_type": "code",
   "execution_count": 2,
   "metadata": {
    "collapsed": false
   },
   "outputs": [
    {
     "name": "stderr",
     "output_type": "stream",
     "text": [
      "100%|██████████| 276872/276872 [00:04<00:00, 59122.02it/s]\n"
     ]
    },
    {
     "data": {
      "text/plain": [
       "('Num regions', 98)"
      ]
     },
     "execution_count": 2,
     "metadata": {},
     "output_type": "execute_result"
    }
   ],
   "source": [
    "splits = ppl.get_splits_ar(prev_inputs=1, n_splits=3)\n",
    "\"Num regions\", splits[0][0].shape[0]"
   ]
  },
  {
   "cell_type": "code",
   "execution_count": 3,
   "metadata": {},
   "outputs": [
    {
     "name": "stdout",
     "output_type": "stream",
     "text": [
      "Split 1\n",
      "Training # of Days: 165\n",
      "Validation # of Days: 19\n",
      "Test # of Days: 182\n",
      "Split 2\n",
      "Training # of Days: 329\n",
      "Validation # of Days: 37\n",
      "Test # of Days: 182\n",
      "Split 3\n",
      "Training # of Days: 493\n",
      "Validation # of Days: 55\n",
      "Test # of Days: 182\n"
     ]
    }
   ],
   "source": [
    "train = []\n",
    "val = []\n",
    "test = []\n",
    "\n",
    "for idx, split in enumerate(splits):\n",
    "    X_train, y_train, X_val, y_val, X_test, y_test = split\n",
    "    \n",
    "    print(\"Split {}\".format(idx + 1))\n",
    "    print(\"Training # of Days: {}\".format(X_train.shape[1]))\n",
    "    print(\"Validation # of Days: {}\".format(X_val.shape[1]))\n",
    "    print(\"Test # of Days: {}\".format(X_test.shape[1]))\n",
    "    \n",
    "    train.append(X_train.shape[1])\n",
    "    val.append(X_val.shape[1])\n",
    "    test.append(X_test.shape[1])"
   ]
  },
  {
   "cell_type": "code",
   "execution_count": 52,
   "metadata": {},
   "outputs": [],
   "source": [
    "from bokeh.io import output_file, show\n",
    "from bokeh.models import ColumnDataSource\n",
    "from bokeh.palettes import GnBu3, OrRd3\n",
    "from bokeh.plotting import figure\n",
    "\n",
    "output_file(\"stacked_split.html\")\n",
    "\n",
    "fruits = ['Split 1', 'Split 2', 'Split 3']\n",
    "years = [\"Training\", \"Validation\", \"Test\"]\n",
    "\n",
    "exports = {'fruits' : fruits,\n",
    "           'Training'   : train,\n",
    "           'Validation'   : val,\n",
    "           'Test'   : test}\n",
    "\n",
    "p = figure(y_range=fruits, plot_height=250, x_range=(0, max(train) + max(test) + max(val)), title=\"Time Series Splits\",\n",
    "           toolbar_location=None)\n",
    "\n",
    "p.hbar_stack(years, y='fruits', height=0.9, color=GnBu3, source=ColumnDataSource(exports),\n",
    "             legend=[\"%s \" % x for x in years])\n",
    "\n",
    "\n",
    "p.y_range.range_padding = 0.1\n",
    "p.ygrid.grid_line_color = None\n",
    "p.legend.location = \"bottom_right\"\n",
    "p.axis.minor_tick_line_color = None\n",
    "p.outline_line_color = None\n",
    "\n",
    "show(p)\n"
   ]
  }
 ],
 "metadata": {
  "kernelspec": {
   "display_name": "Python 3",
   "language": "python",
   "name": "python3"
  },
  "language_info": {
   "codemirror_mode": {
    "name": "ipython",
    "version": 3
   },
   "file_extension": ".py",
   "mimetype": "text/x-python",
   "name": "python",
   "nbconvert_exporter": "python",
   "pygments_lexer": "ipython3",
   "version": "3.6.8"
  }
 },
 "nbformat": 4,
 "nbformat_minor": 2
}

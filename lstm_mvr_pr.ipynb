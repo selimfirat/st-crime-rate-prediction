{
 "cells": [
  {
   "cell_type": "markdown",
   "metadata": {},
   "source": [
    "# LSTM Multivariate Regressor Per Region\n",
    "Train LSTM with AR(1) for each region separately"
   ]
  },
  {
   "cell_type": "code",
   "execution_count": 1,
   "metadata": {},
   "outputs": [
    {
     "name": "stdout",
     "output_type": "stream",
     "text": [
      "Unique locations (205593, 2)\n",
      "Min latitude 41.644589713\n",
      "Max latitude 42.022575055\n",
      "Min longitude -87.928909442\n",
      "Max longitude -87.524614716\n",
      "Min ts 1420070400\n",
      "Max ts 1483228740\n",
      "Number of days 730\n"
     ]
    }
   ],
   "source": [
    "from pipeline import Pipeline\n",
    "\n",
    "ppl = Pipeline()\n",
    "ppl.init_pipeline()"
   ]
  },
  {
   "cell_type": "code",
   "execution_count": 2,
   "metadata": {},
   "outputs": [
    {
     "name": "stderr",
     "output_type": "stream",
     "text": [
      "100%|██████████| 276872/276872 [00:04<00:00, 67826.16it/s]\n",
      "100%|██████████| 98/98 [00:00<00:00, 1134.48it/s]\n"
     ]
    },
    {
     "data": {
      "text/plain": [
       "('Num regions', 98)"
      ]
     },
     "execution_count": 2,
     "metadata": {},
     "output_type": "execute_result"
    }
   ],
   "source": [
    "splits = ppl.get_splits_ar_pr(prev_inputs=1, n_splits=3)\n",
    "\"Num regions\", len(splits)"
   ]
  },
  {
   "cell_type": "code",
   "execution_count": null,
   "metadata": {},
   "outputs": [
    {
     "name": "stderr",
     "output_type": "stream",
     "text": [
      "  0%|          | 0/98 [00:00<?, ?it/s]"
     ]
    },
    {
     "name": "stdout",
     "output_type": "stream",
     "text": [
      "Split #0\n"
     ]
    },
    {
     "name": "stderr",
     "output_type": "stream",
     "text": [
      "  3%|▎         | 3/98 [00:52<28:30, 18.00s/it]"
     ]
    }
   ],
   "source": [
    "from lstm_mvr_pr import LSTMMultivariateRegressorPerRegion\n",
    "\n",
    "dim = splits[0][0][0].shape[-1] # 25 for chicago\n",
    "\n",
    "model_params = {\n",
    "    \"input_dim\": dim,\n",
    "    \"output_dim\": dim\n",
    "}\n",
    "\n",
    "model_cls = LSTMMultivariateRegressorPerRegion\n",
    "\n",
    "ppl.model_per_region(splits, model_cls, model_params, num_epochs=500, lr=0.1, early_stop_epochs=100)"
   ]
  },
  {
   "cell_type": "code",
   "execution_count": null,
   "metadata": {},
   "outputs": [],
   "source": [
    "ppl.close()"
   ]
  }
 ],
 "metadata": {
  "kernelspec": {
   "display_name": "Python 3",
   "language": "python",
   "name": "python3"
  },
  "language_info": {
   "codemirror_mode": {
    "name": "ipython",
    "version": 3
   },
   "file_extension": ".py",
   "mimetype": "text/x-python",
   "name": "python",
   "nbconvert_exporter": "python",
   "pygments_lexer": "ipython3",
   "version": "3.6.8"
  }
 },
 "nbformat": 4,
 "nbformat_minor": 2
}
